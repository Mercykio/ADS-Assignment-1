{
 "cells": [
  {
   "cell_type": "markdown",
   "metadata": {},
   "source": [
    "## Pandas\n",
    "\n",
    "### Instructions\n",
    "\n",
    "This assignment will be done completely inside this Jupyter notebook with answers placed in the cell provided.\n",
    "\n",
    "All python imports that are needed shown.\n",
    "\n",
    "Follow all the instructions in this notebook to complete these tasks.    \n",
    "\n",
    "Make sure the CSV data files is in the same folder as this notebook - alumni.csv, groceries.csv"
   ]
  },
  {
   "cell_type": "code",
   "execution_count": 6,
   "metadata": {},
   "outputs": [],
   "source": [
    "# Imports needed to complete this assignment\n",
    "import pandas as pd"
   ]
  },
  {
   "cell_type": "markdown",
   "metadata": {},
   "source": [
    "### Question 1 :  Import CSV file (1 Mark)\n",
    "\n",
    "\n",
    "Write code to load the alumni csv dataset into a Pandas DataFrame called 'alumni'.\n"
   ]
  },
  {
   "cell_type": "code",
   "execution_count": 7,
   "metadata": {},
   "outputs": [],
   "source": [
    "#q1 (1)\n",
    "alumni = pd.read_csv(\"alumni.csv\")"
   ]
  },
  {
   "cell_type": "markdown",
   "metadata": {},
   "source": [
    "### Question 2 :  Understand the data set (5 Marks)\n",
    "\n",
    "Use the following pandas commands to understand the data set: a) head, b) tail, c) dtypes, d) info, e) describe "
   ]
  },
  {
   "cell_type": "code",
   "execution_count": 8,
   "metadata": {},
   "outputs": [
    {
     "data": {
      "text/html": [
       "<div>\n",
       "<style scoped>\n",
       "    .dataframe tbody tr th:only-of-type {\n",
       "        vertical-align: middle;\n",
       "    }\n",
       "\n",
       "    .dataframe tbody tr th {\n",
       "        vertical-align: top;\n",
       "    }\n",
       "\n",
       "    .dataframe thead th {\n",
       "        text-align: right;\n",
       "    }\n",
       "</style>\n",
       "<table border=\"1\" class=\"dataframe\">\n",
       "  <thead>\n",
       "    <tr style=\"text-align: right;\">\n",
       "      <th></th>\n",
       "      <th>Year Graduated</th>\n",
       "      <th>Gender</th>\n",
       "      <th>Marital Status</th>\n",
       "      <th>Diploma Type</th>\n",
       "      <th>Defaulted</th>\n",
       "      <th>Salary</th>\n",
       "      <th>Fee</th>\n",
       "      <th>Savings ($)</th>\n",
       "    </tr>\n",
       "  </thead>\n",
       "  <tbody>\n",
       "    <tr>\n",
       "      <th>0</th>\n",
       "      <td>2004</td>\n",
       "      <td>Male</td>\n",
       "      <td>Single</td>\n",
       "      <td>Standard Diploma</td>\n",
       "      <td>Yes</td>\n",
       "      <td>125000</td>\n",
       "      <td>10869</td>\n",
       "      <td>$86,000</td>\n",
       "    </tr>\n",
       "    <tr>\n",
       "      <th>1</th>\n",
       "      <td>2005</td>\n",
       "      <td>Male</td>\n",
       "      <td>Married</td>\n",
       "      <td>College Prep Diploma</td>\n",
       "      <td>No</td>\n",
       "      <td>100000</td>\n",
       "      <td>10869</td>\n",
       "      <td>$116,000</td>\n",
       "    </tr>\n",
       "    <tr>\n",
       "      <th>2</th>\n",
       "      <td>2006</td>\n",
       "      <td>Female</td>\n",
       "      <td>Single</td>\n",
       "      <td>Standard Diploma</td>\n",
       "      <td>Yes</td>\n",
       "      <td>70000</td>\n",
       "      <td>10869</td>\n",
       "      <td>$52,000</td>\n",
       "    </tr>\n",
       "    <tr>\n",
       "      <th>3</th>\n",
       "      <td>2007</td>\n",
       "      <td>Male</td>\n",
       "      <td>Married</td>\n",
       "      <td>Standard Diploma</td>\n",
       "      <td>No</td>\n",
       "      <td>120000</td>\n",
       "      <td>10869</td>\n",
       "      <td>$76,000</td>\n",
       "    </tr>\n",
       "    <tr>\n",
       "      <th>4</th>\n",
       "      <td>2006</td>\n",
       "      <td>Female</td>\n",
       "      <td>Divorced</td>\n",
       "      <td>Standard Diploma</td>\n",
       "      <td>Yes</td>\n",
       "      <td>95000</td>\n",
       "      <td>11948</td>\n",
       "      <td>$52,000</td>\n",
       "    </tr>\n",
       "  </tbody>\n",
       "</table>\n",
       "</div>"
      ],
      "text/plain": [
       "   Year Graduated  Gender Marital Status          Diploma Type Defaulted  \\\n",
       "0            2004    Male         Single      Standard Diploma       Yes   \n",
       "1            2005    Male        Married  College Prep Diploma        No   \n",
       "2            2006  Female         Single      Standard Diploma       Yes   \n",
       "3            2007    Male        Married      Standard Diploma        No   \n",
       "4            2006  Female       Divorced      Standard Diploma       Yes   \n",
       "\n",
       "   Salary    Fee Savings ($)  \n",
       "0  125000  10869     $86,000  \n",
       "1  100000  10869    $116,000  \n",
       "2   70000  10869     $52,000  \n",
       "3  120000  10869     $76,000  \n",
       "4   95000  11948     $52,000  "
      ]
     },
     "execution_count": 8,
     "metadata": {},
     "output_type": "execute_result"
    }
   ],
   "source": [
    "#a) (1)\n",
    "alumni.head()"
   ]
  },
  {
   "cell_type": "code",
   "execution_count": 9,
   "metadata": {},
   "outputs": [
    {
     "data": {
      "text/html": [
       "<div>\n",
       "<style scoped>\n",
       "    .dataframe tbody tr th:only-of-type {\n",
       "        vertical-align: middle;\n",
       "    }\n",
       "\n",
       "    .dataframe tbody tr th {\n",
       "        vertical-align: top;\n",
       "    }\n",
       "\n",
       "    .dataframe thead th {\n",
       "        text-align: right;\n",
       "    }\n",
       "</style>\n",
       "<table border=\"1\" class=\"dataframe\">\n",
       "  <thead>\n",
       "    <tr style=\"text-align: right;\">\n",
       "      <th></th>\n",
       "      <th>Year Graduated</th>\n",
       "      <th>Gender</th>\n",
       "      <th>Marital Status</th>\n",
       "      <th>Diploma Type</th>\n",
       "      <th>Defaulted</th>\n",
       "      <th>Salary</th>\n",
       "      <th>Fee</th>\n",
       "      <th>Savings ($)</th>\n",
       "    </tr>\n",
       "  </thead>\n",
       "  <tbody>\n",
       "    <tr>\n",
       "      <th>83</th>\n",
       "      <td>2007</td>\n",
       "      <td>Male</td>\n",
       "      <td>Single</td>\n",
       "      <td>Standard Diploma</td>\n",
       "      <td>No</td>\n",
       "      <td>75000</td>\n",
       "      <td>12066</td>\n",
       "      <td>$16,000</td>\n",
       "    </tr>\n",
       "    <tr>\n",
       "      <th>84</th>\n",
       "      <td>2008</td>\n",
       "      <td>M</td>\n",
       "      <td>Single</td>\n",
       "      <td>College Prep Diploma</td>\n",
       "      <td>Yes</td>\n",
       "      <td>65000</td>\n",
       "      <td>12066</td>\n",
       "      <td>$72,000</td>\n",
       "    </tr>\n",
       "    <tr>\n",
       "      <th>85</th>\n",
       "      <td>2009</td>\n",
       "      <td>Male</td>\n",
       "      <td>Married</td>\n",
       "      <td>Standard Diploma</td>\n",
       "      <td>No</td>\n",
       "      <td>75000</td>\n",
       "      <td>12066</td>\n",
       "      <td>$46,000</td>\n",
       "    </tr>\n",
       "    <tr>\n",
       "      <th>86</th>\n",
       "      <td>2005</td>\n",
       "      <td>Female</td>\n",
       "      <td>Divorced</td>\n",
       "      <td>Standard Diploma</td>\n",
       "      <td>Yes</td>\n",
       "      <td>100000</td>\n",
       "      <td>12067</td>\n",
       "      <td>$32,000</td>\n",
       "    </tr>\n",
       "    <tr>\n",
       "      <th>87</th>\n",
       "      <td>2006</td>\n",
       "      <td>Male</td>\n",
       "      <td>Married</td>\n",
       "      <td>Standard Diploma</td>\n",
       "      <td>Yes</td>\n",
       "      <td>75000</td>\n",
       "      <td>12067</td>\n",
       "      <td>$67,000</td>\n",
       "    </tr>\n",
       "  </tbody>\n",
       "</table>\n",
       "</div>"
      ],
      "text/plain": [
       "    Year Graduated  Gender Marital Status          Diploma Type Defaulted  \\\n",
       "83            2007    Male         Single      Standard Diploma        No   \n",
       "84            2008       M         Single  College Prep Diploma       Yes   \n",
       "85            2009    Male        Married      Standard Diploma        No   \n",
       "86            2005  Female       Divorced      Standard Diploma       Yes   \n",
       "87            2006    Male        Married      Standard Diploma       Yes   \n",
       "\n",
       "    Salary    Fee Savings ($)  \n",
       "83   75000  12066     $16,000  \n",
       "84   65000  12066     $72,000  \n",
       "85   75000  12066     $46,000  \n",
       "86  100000  12067     $32,000  \n",
       "87   75000  12067     $67,000  "
      ]
     },
     "execution_count": 9,
     "metadata": {},
     "output_type": "execute_result"
    }
   ],
   "source": [
    "#b) (1)\n",
    "alumni.tail()"
   ]
  },
  {
   "cell_type": "code",
   "execution_count": 10,
   "metadata": {},
   "outputs": [
    {
     "data": {
      "text/plain": [
       "Year Graduated     int64\n",
       "Gender            object\n",
       "Marital Status    object\n",
       "Diploma Type      object\n",
       "Defaulted         object\n",
       "Salary             int64\n",
       "Fee                int64\n",
       "Savings ($)       object\n",
       "dtype: object"
      ]
     },
     "execution_count": 10,
     "metadata": {},
     "output_type": "execute_result"
    }
   ],
   "source": [
    "#c) (1)\n",
    "alumni.dtypes"
   ]
  },
  {
   "cell_type": "code",
   "execution_count": 11,
   "metadata": {},
   "outputs": [
    {
     "name": "stdout",
     "output_type": "stream",
     "text": [
      "<class 'pandas.core.frame.DataFrame'>\n",
      "RangeIndex: 88 entries, 0 to 87\n",
      "Data columns (total 8 columns):\n",
      " #   Column          Non-Null Count  Dtype \n",
      "---  ------          --------------  ----- \n",
      " 0   Year Graduated  88 non-null     int64 \n",
      " 1   Gender          88 non-null     object\n",
      " 2   Marital Status  88 non-null     object\n",
      " 3   Diploma Type    88 non-null     object\n",
      " 4   Defaulted       88 non-null     object\n",
      " 5   Salary          88 non-null     int64 \n",
      " 6   Fee             88 non-null     int64 \n",
      " 7   Savings ($)     88 non-null     object\n",
      "dtypes: int64(3), object(5)\n",
      "memory usage: 5.6+ KB\n"
     ]
    }
   ],
   "source": [
    "#d) (1)\n",
    "alumni.info()"
   ]
  },
  {
   "cell_type": "code",
   "execution_count": 12,
   "metadata": {},
   "outputs": [
    {
     "data": {
      "text/html": [
       "<div>\n",
       "<style scoped>\n",
       "    .dataframe tbody tr th:only-of-type {\n",
       "        vertical-align: middle;\n",
       "    }\n",
       "\n",
       "    .dataframe tbody tr th {\n",
       "        vertical-align: top;\n",
       "    }\n",
       "\n",
       "    .dataframe thead th {\n",
       "        text-align: right;\n",
       "    }\n",
       "</style>\n",
       "<table border=\"1\" class=\"dataframe\">\n",
       "  <thead>\n",
       "    <tr style=\"text-align: right;\">\n",
       "      <th></th>\n",
       "      <th>Year Graduated</th>\n",
       "      <th>Salary</th>\n",
       "      <th>Fee</th>\n",
       "    </tr>\n",
       "  </thead>\n",
       "  <tbody>\n",
       "    <tr>\n",
       "      <th>count</th>\n",
       "      <td>88.000000</td>\n",
       "      <td>88.000000</td>\n",
       "      <td>88.000000</td>\n",
       "    </tr>\n",
       "    <tr>\n",
       "      <th>mean</th>\n",
       "      <td>2006.477273</td>\n",
       "      <td>84090.909091</td>\n",
       "      <td>11708.727273</td>\n",
       "    </tr>\n",
       "    <tr>\n",
       "      <th>std</th>\n",
       "      <td>1.560852</td>\n",
       "      <td>21234.128008</td>\n",
       "      <td>1110.647949</td>\n",
       "    </tr>\n",
       "    <tr>\n",
       "      <th>min</th>\n",
       "      <td>2004.000000</td>\n",
       "      <td>35000.000000</td>\n",
       "      <td>10869.000000</td>\n",
       "    </tr>\n",
       "    <tr>\n",
       "      <th>25%</th>\n",
       "      <td>2005.000000</td>\n",
       "      <td>75000.000000</td>\n",
       "      <td>10968.000000</td>\n",
       "    </tr>\n",
       "    <tr>\n",
       "      <th>50%</th>\n",
       "      <td>2006.500000</td>\n",
       "      <td>75000.000000</td>\n",
       "      <td>11696.000000</td>\n",
       "    </tr>\n",
       "    <tr>\n",
       "      <th>75%</th>\n",
       "      <td>2008.000000</td>\n",
       "      <td>90000.000000</td>\n",
       "      <td>12058.250000</td>\n",
       "    </tr>\n",
       "    <tr>\n",
       "      <th>max</th>\n",
       "      <td>2009.000000</td>\n",
       "      <td>160000.000000</td>\n",
       "      <td>20960.000000</td>\n",
       "    </tr>\n",
       "  </tbody>\n",
       "</table>\n",
       "</div>"
      ],
      "text/plain": [
       "       Year Graduated         Salary           Fee\n",
       "count       88.000000      88.000000     88.000000\n",
       "mean      2006.477273   84090.909091  11708.727273\n",
       "std          1.560852   21234.128008   1110.647949\n",
       "min       2004.000000   35000.000000  10869.000000\n",
       "25%       2005.000000   75000.000000  10968.000000\n",
       "50%       2006.500000   75000.000000  11696.000000\n",
       "75%       2008.000000   90000.000000  12058.250000\n",
       "max       2009.000000  160000.000000  20960.000000"
      ]
     },
     "execution_count": 12,
     "metadata": {},
     "output_type": "execute_result"
    }
   ],
   "source": [
    "#e) (1)\n",
    "alumni.describe()"
   ]
  },
  {
   "cell_type": "markdown",
   "metadata": {},
   "source": [
    "### Question 3 :  Cleaning the data set - part A (3 Marks)\n",
    "\n",
    "a) Use clean_currency method below to strip out commas and dollar signs from Savings ($) column and put into a new column called 'Savings'."
   ]
  },
  {
   "cell_type": "code",
   "execution_count": 13,
   "metadata": {},
   "outputs": [
    {
     "data": {
      "text/html": [
       "<div>\n",
       "<style scoped>\n",
       "    .dataframe tbody tr th:only-of-type {\n",
       "        vertical-align: middle;\n",
       "    }\n",
       "\n",
       "    .dataframe tbody tr th {\n",
       "        vertical-align: top;\n",
       "    }\n",
       "\n",
       "    .dataframe thead th {\n",
       "        text-align: right;\n",
       "    }\n",
       "</style>\n",
       "<table border=\"1\" class=\"dataframe\">\n",
       "  <thead>\n",
       "    <tr style=\"text-align: right;\">\n",
       "      <th></th>\n",
       "      <th>Year Graduated</th>\n",
       "      <th>Gender</th>\n",
       "      <th>Marital Status</th>\n",
       "      <th>Diploma Type</th>\n",
       "      <th>Defaulted</th>\n",
       "      <th>Salary</th>\n",
       "      <th>Fee</th>\n",
       "      <th>Savings ($)</th>\n",
       "      <th>Savings</th>\n",
       "    </tr>\n",
       "  </thead>\n",
       "  <tbody>\n",
       "    <tr>\n",
       "      <th>0</th>\n",
       "      <td>2004</td>\n",
       "      <td>Male</td>\n",
       "      <td>Single</td>\n",
       "      <td>Standard Diploma</td>\n",
       "      <td>Yes</td>\n",
       "      <td>125000</td>\n",
       "      <td>10869</td>\n",
       "      <td>$86,000</td>\n",
       "      <td>86000.0</td>\n",
       "    </tr>\n",
       "    <tr>\n",
       "      <th>1</th>\n",
       "      <td>2005</td>\n",
       "      <td>Male</td>\n",
       "      <td>Married</td>\n",
       "      <td>College Prep Diploma</td>\n",
       "      <td>No</td>\n",
       "      <td>100000</td>\n",
       "      <td>10869</td>\n",
       "      <td>$116,000</td>\n",
       "      <td>116000.0</td>\n",
       "    </tr>\n",
       "    <tr>\n",
       "      <th>2</th>\n",
       "      <td>2006</td>\n",
       "      <td>Female</td>\n",
       "      <td>Single</td>\n",
       "      <td>Standard Diploma</td>\n",
       "      <td>Yes</td>\n",
       "      <td>70000</td>\n",
       "      <td>10869</td>\n",
       "      <td>$52,000</td>\n",
       "      <td>52000.0</td>\n",
       "    </tr>\n",
       "    <tr>\n",
       "      <th>3</th>\n",
       "      <td>2007</td>\n",
       "      <td>Male</td>\n",
       "      <td>Married</td>\n",
       "      <td>Standard Diploma</td>\n",
       "      <td>No</td>\n",
       "      <td>120000</td>\n",
       "      <td>10869</td>\n",
       "      <td>$76,000</td>\n",
       "      <td>76000.0</td>\n",
       "    </tr>\n",
       "    <tr>\n",
       "      <th>4</th>\n",
       "      <td>2006</td>\n",
       "      <td>Female</td>\n",
       "      <td>Divorced</td>\n",
       "      <td>Standard Diploma</td>\n",
       "      <td>Yes</td>\n",
       "      <td>95000</td>\n",
       "      <td>11948</td>\n",
       "      <td>$52,000</td>\n",
       "      <td>52000.0</td>\n",
       "    </tr>\n",
       "  </tbody>\n",
       "</table>\n",
       "</div>"
      ],
      "text/plain": [
       "   Year Graduated  Gender Marital Status          Diploma Type Defaulted  \\\n",
       "0            2004    Male         Single      Standard Diploma       Yes   \n",
       "1            2005    Male        Married  College Prep Diploma        No   \n",
       "2            2006  Female         Single      Standard Diploma       Yes   \n",
       "3            2007    Male        Married      Standard Diploma        No   \n",
       "4            2006  Female       Divorced      Standard Diploma       Yes   \n",
       "\n",
       "   Salary    Fee Savings ($)   Savings  \n",
       "0  125000  10869     $86,000   86000.0  \n",
       "1  100000  10869    $116,000  116000.0  \n",
       "2   70000  10869     $52,000   52000.0  \n",
       "3  120000  10869     $76,000   76000.0  \n",
       "4   95000  11948     $52,000   52000.0  "
      ]
     },
     "execution_count": 13,
     "metadata": {},
     "output_type": "execute_result"
    }
   ],
   "source": [
    "def clean_currency(curr):\n",
    "    return float(curr.replace(\",\", \"\").replace(\"$\", \"\"))\n",
    "clean_currency(\"$50,000\")\n",
    "alumni['Savings']= alumni['Savings ($)'].apply(clean_currency)  \n",
    "alumni.head()"
   ]
  },
  {
   "cell_type": "code",
   "execution_count": 14,
   "metadata": {},
   "outputs": [
    {
     "data": {
      "text/html": [
       "<div>\n",
       "<style scoped>\n",
       "    .dataframe tbody tr th:only-of-type {\n",
       "        vertical-align: middle;\n",
       "    }\n",
       "\n",
       "    .dataframe tbody tr th {\n",
       "        vertical-align: top;\n",
       "    }\n",
       "\n",
       "    .dataframe thead th {\n",
       "        text-align: right;\n",
       "    }\n",
       "</style>\n",
       "<table border=\"1\" class=\"dataframe\">\n",
       "  <thead>\n",
       "    <tr style=\"text-align: right;\">\n",
       "      <th></th>\n",
       "      <th>Year Graduated</th>\n",
       "      <th>Salary</th>\n",
       "      <th>Fee</th>\n",
       "      <th>Savings</th>\n",
       "    </tr>\n",
       "  </thead>\n",
       "  <tbody>\n",
       "    <tr>\n",
       "      <th>count</th>\n",
       "      <td>88.000000</td>\n",
       "      <td>88.000000</td>\n",
       "      <td>88.000000</td>\n",
       "      <td>88.000000</td>\n",
       "    </tr>\n",
       "    <tr>\n",
       "      <th>mean</th>\n",
       "      <td>2006.477273</td>\n",
       "      <td>84090.909091</td>\n",
       "      <td>11708.727273</td>\n",
       "      <td>47954.545455</td>\n",
       "    </tr>\n",
       "    <tr>\n",
       "      <th>std</th>\n",
       "      <td>1.560852</td>\n",
       "      <td>21234.128008</td>\n",
       "      <td>1110.647949</td>\n",
       "      <td>28324.437721</td>\n",
       "    </tr>\n",
       "    <tr>\n",
       "      <th>min</th>\n",
       "      <td>2004.000000</td>\n",
       "      <td>35000.000000</td>\n",
       "      <td>10869.000000</td>\n",
       "      <td>6000.000000</td>\n",
       "    </tr>\n",
       "    <tr>\n",
       "      <th>25%</th>\n",
       "      <td>2005.000000</td>\n",
       "      <td>75000.000000</td>\n",
       "      <td>10968.000000</td>\n",
       "      <td>30000.000000</td>\n",
       "    </tr>\n",
       "    <tr>\n",
       "      <th>50%</th>\n",
       "      <td>2006.500000</td>\n",
       "      <td>75000.000000</td>\n",
       "      <td>11696.000000</td>\n",
       "      <td>46000.000000</td>\n",
       "    </tr>\n",
       "    <tr>\n",
       "      <th>75%</th>\n",
       "      <td>2008.000000</td>\n",
       "      <td>90000.000000</td>\n",
       "      <td>12058.250000</td>\n",
       "      <td>67000.000000</td>\n",
       "    </tr>\n",
       "    <tr>\n",
       "      <th>max</th>\n",
       "      <td>2009.000000</td>\n",
       "      <td>160000.000000</td>\n",
       "      <td>20960.000000</td>\n",
       "      <td>146000.000000</td>\n",
       "    </tr>\n",
       "  </tbody>\n",
       "</table>\n",
       "</div>"
      ],
      "text/plain": [
       "       Year Graduated         Salary           Fee        Savings\n",
       "count       88.000000      88.000000     88.000000      88.000000\n",
       "mean      2006.477273   84090.909091  11708.727273   47954.545455\n",
       "std          1.560852   21234.128008   1110.647949   28324.437721\n",
       "min       2004.000000   35000.000000  10869.000000    6000.000000\n",
       "25%       2005.000000   75000.000000  10968.000000   30000.000000\n",
       "50%       2006.500000   75000.000000  11696.000000   46000.000000\n",
       "75%       2008.000000   90000.000000  12058.250000   67000.000000\n",
       "max       2009.000000  160000.000000  20960.000000  146000.000000"
      ]
     },
     "execution_count": 14,
     "metadata": {},
     "output_type": "execute_result"
    }
   ],
   "source": [
    "#a) (2)\n",
    "alumni.describe()"
   ]
  },
  {
   "cell_type": "markdown",
   "metadata": {},
   "source": [
    "b) Uncomment 'alumni.dtypes.Savings' to check that the type change has occurred"
   ]
  },
  {
   "cell_type": "code",
   "execution_count": 15,
   "metadata": {},
   "outputs": [
    {
     "data": {
      "text/plain": [
       "dtype('float64')"
      ]
     },
     "execution_count": 15,
     "metadata": {},
     "output_type": "execute_result"
    }
   ],
   "source": [
    "#b) (1)\n",
    "alumni.dtypes.Savings"
   ]
  },
  {
   "cell_type": "markdown",
   "metadata": {},
   "source": [
    "### Question 4 :  Cleaning the data set - part B (5 Marks)\n",
    "\n",
    "a) Run the 'alumni[\"Gender\"].value_counts()' to see the incorrect 'M' fields that need to be converted to 'Male'"
   ]
  },
  {
   "cell_type": "code",
   "execution_count": 16,
   "metadata": {},
   "outputs": [
    {
     "data": {
      "text/plain": [
       "Male      46\n",
       "Female    39\n",
       "M          3\n",
       "Name: Gender, dtype: int64"
      ]
     },
     "execution_count": 16,
     "metadata": {},
     "output_type": "execute_result"
    }
   ],
   "source": [
    "# a) (1)\n",
    "alumni[\"Gender\"].value_counts()"
   ]
  },
  {
   "cell_type": "markdown",
   "metadata": {},
   "source": [
    "b) Now use a '.str.replace' on the 'Gender' column to covert the incorrect 'M' fields. Hint: We must use ^...$ to restrict the pattern to match the whole string. "
   ]
  },
  {
   "cell_type": "code",
   "execution_count": 17,
   "metadata": {},
   "outputs": [
    {
     "data": {
      "text/plain": [
       "Male      46\n",
       "Female    39\n",
       "M          3\n",
       "Name: Gender, dtype: int64"
      ]
     },
     "execution_count": 17,
     "metadata": {},
     "output_type": "execute_result"
    }
   ],
   "source": [
    "# b) (1)\n",
    "alumni['Gender'].replace('^M.$','Male')\n",
    "alumni[\"Gender\"].value_counts()"
   ]
  },
  {
   "cell_type": "markdown",
   "metadata": {},
   "source": [
    "c) That didn't the set alumni[\"Gender\"] column however. You will need to update the column when using the replace command 'alumni[\"Gender\"]=<replace command>', show how this is done below"
   ]
  },
  {
   "cell_type": "code",
   "execution_count": 18,
   "metadata": {},
   "outputs": [
    {
     "data": {
      "text/plain": [
       "Male      49\n",
       "Female    39\n",
       "Name: Gender, dtype: int64"
      ]
     },
     "execution_count": 18,
     "metadata": {},
     "output_type": "execute_result"
    }
   ],
   "source": [
    "# c) (1)\n",
    "alumni[\"Gender\"]=alumni['Gender'].replace('M','Male')\n",
    "alumni[\"Gender\"].value_counts()"
   ]
  },
  {
   "cell_type": "markdown",
   "metadata": {},
   "source": [
    "d) You can set it directly by using the df.loc command, show how this can be done by using the'df.loc[row_indexer,col_indexer] = value' command to convert the 'M' to 'Male'"
   ]
  },
  {
   "cell_type": "code",
   "execution_count": 19,
   "metadata": {},
   "outputs": [],
   "source": [
    "# d) (1)\n",
    "alumni.loc[alumni['Gender'] =='M', 'Gender'] = 'Male'"
   ]
  },
  {
   "cell_type": "markdown",
   "metadata": {},
   "source": [
    "e) Now run the 'value_counts' for Gender again to see the correct columns - 'Male' and 'Female' "
   ]
  },
  {
   "cell_type": "code",
   "execution_count": 20,
   "metadata": {},
   "outputs": [
    {
     "data": {
      "text/plain": [
       "Male      49\n",
       "Female    39\n",
       "Name: Gender, dtype: int64"
      ]
     },
     "execution_count": 20,
     "metadata": {},
     "output_type": "execute_result"
    }
   ],
   "source": [
    "# e) (1)\n",
    "alumni[\"Gender\"].value_counts()\n"
   ]
  },
  {
   "cell_type": "markdown",
   "metadata": {},
   "source": [
    "### Question 5 :  Working with the data set (4)\n",
    "\n",
    "a) get the median, b) mean and c) standard deviation for the 'Salary' column"
   ]
  },
  {
   "cell_type": "code",
   "execution_count": 21,
   "metadata": {},
   "outputs": [
    {
     "name": "stdout",
     "output_type": "stream",
     "text": [
      "75000.0\n"
     ]
    }
   ],
   "source": [
    "# a)(1)\n",
    "print(alumni['Salary'].median())"
   ]
  },
  {
   "cell_type": "code",
   "execution_count": 22,
   "metadata": {},
   "outputs": [
    {
     "name": "stdout",
     "output_type": "stream",
     "text": [
      "84090.90909090909\n"
     ]
    }
   ],
   "source": [
    "# b)(1)\n",
    "print(alumni['Salary'].mean())"
   ]
  },
  {
   "cell_type": "code",
   "execution_count": 23,
   "metadata": {},
   "outputs": [
    {
     "name": "stdout",
     "output_type": "stream",
     "text": [
      "21234.128008173615\n"
     ]
    }
   ],
   "source": [
    "# c)(1)\n",
    "print(alumni['Salary'].std())"
   ]
  },
  {
   "cell_type": "markdown",
   "metadata": {},
   "source": [
    "d) identify which alumni paid more than $15000 in fees, using the 'Fee' column"
   ]
  },
  {
   "cell_type": "code",
   "execution_count": 24,
   "metadata": {},
   "outputs": [
    {
     "data": {
      "text/html": [
       "<div>\n",
       "<style scoped>\n",
       "    .dataframe tbody tr th:only-of-type {\n",
       "        vertical-align: middle;\n",
       "    }\n",
       "\n",
       "    .dataframe tbody tr th {\n",
       "        vertical-align: top;\n",
       "    }\n",
       "\n",
       "    .dataframe thead th {\n",
       "        text-align: right;\n",
       "    }\n",
       "</style>\n",
       "<table border=\"1\" class=\"dataframe\">\n",
       "  <thead>\n",
       "    <tr style=\"text-align: right;\">\n",
       "      <th></th>\n",
       "      <th>Year Graduated</th>\n",
       "      <th>Gender</th>\n",
       "      <th>Marital Status</th>\n",
       "      <th>Diploma Type</th>\n",
       "      <th>Defaulted</th>\n",
       "      <th>Salary</th>\n",
       "      <th>Fee</th>\n",
       "      <th>Savings ($)</th>\n",
       "      <th>Savings</th>\n",
       "    </tr>\n",
       "  </thead>\n",
       "  <tbody>\n",
       "    <tr>\n",
       "      <th>18</th>\n",
       "      <td>2006</td>\n",
       "      <td>Male</td>\n",
       "      <td>Married</td>\n",
       "      <td>Standard Diploma</td>\n",
       "      <td>No</td>\n",
       "      <td>140000</td>\n",
       "      <td>20960</td>\n",
       "      <td>$72,000</td>\n",
       "      <td>72000.0</td>\n",
       "    </tr>\n",
       "  </tbody>\n",
       "</table>\n",
       "</div>"
      ],
      "text/plain": [
       "    Year Graduated Gender Marital Status      Diploma Type Defaulted  Salary  \\\n",
       "18            2006   Male        Married  Standard Diploma        No  140000   \n",
       "\n",
       "      Fee Savings ($)  Savings  \n",
       "18  20960     $72,000  72000.0  "
      ]
     },
     "execution_count": 24,
     "metadata": {},
     "output_type": "execute_result"
    }
   ],
   "source": [
    "# d) (1)\n",
    "alumni.loc[alumni['Fee'] > 15000]"
   ]
  },
  {
   "cell_type": "markdown",
   "metadata": {},
   "source": [
    "### Question 6 :  Visualise the data set (4 Marks)\n",
    "\n",
    "a) Using the 'Diploma Type' column, plot a bar chart and show its value counts."
   ]
  },
  {
   "cell_type": "code",
   "execution_count": 39,
   "metadata": {},
   "outputs": [
    {
     "ename": "AttributeError",
     "evalue": "module 'seaborn' has no attribute 'setstyle'",
     "output_type": "error",
     "traceback": [
      "\u001b[1;31m---------------------------------------------------------------------------\u001b[0m",
      "\u001b[1;31mAttributeError\u001b[0m                            Traceback (most recent call last)",
      "\u001b[1;32m~\\AppData\\Local\\Temp\\ipykernel_17340\\2608638974.py\u001b[0m in \u001b[0;36m<module>\u001b[1;34m\u001b[0m\n\u001b[0;32m      2\u001b[0m \u001b[1;32mimport\u001b[0m \u001b[0mmatplotlib\u001b[0m\u001b[1;33m.\u001b[0m\u001b[0mpyplot\u001b[0m \u001b[1;32mas\u001b[0m \u001b[0mplt\u001b[0m\u001b[1;33m\u001b[0m\u001b[1;33m\u001b[0m\u001b[0m\n\u001b[0;32m      3\u001b[0m \u001b[1;32mimport\u001b[0m \u001b[0mseaborn\u001b[0m \u001b[1;32mas\u001b[0m \u001b[0msns\u001b[0m\u001b[1;33m\u001b[0m\u001b[1;33m\u001b[0m\u001b[0m\n\u001b[1;32m----> 4\u001b[1;33m \u001b[0msns\u001b[0m\u001b[1;33m.\u001b[0m\u001b[0msetstyle\u001b[0m\u001b[1;33m(\u001b[0m\u001b[1;34m\"darkgrid\"\u001b[0m\u001b[1;33m)\u001b[0m\u001b[1;33m\u001b[0m\u001b[1;33m\u001b[0m\u001b[0m\n\u001b[0m\u001b[0;32m      5\u001b[0m \u001b[0malumni\u001b[0m\u001b[1;33m[\u001b[0m\u001b[1;34m'Diploma Type'\u001b[0m\u001b[1;33m]\u001b[0m\u001b[1;33m.\u001b[0m\u001b[0mvalue_counts\u001b[0m\u001b[1;33m(\u001b[0m\u001b[1;33m)\u001b[0m\u001b[1;33m\u001b[0m\u001b[1;33m\u001b[0m\u001b[0m\n",
      "\u001b[1;31mAttributeError\u001b[0m: module 'seaborn' has no attribute 'setstyle'"
     ]
    }
   ],
   "source": [
    "#a) (1)\n",
    "import matplotlib.pyplot as plt\n",
    "import seaborn as sns\n",
    "sns.setstyle(\"darkgrid\")\n",
    "alumni['Diploma Type'].value_counts()\n"
   ]
  },
  {
   "cell_type": "code",
   "execution_count": 43,
   "metadata": {},
   "outputs": [
    {
     "data": {
      "text/plain": [
       "Text(0, 0.5, 'Value Count')"
      ]
     },
     "execution_count": 43,
     "metadata": {},
     "output_type": "execute_result"
    },
    {
     "data": {
      "image/png": "[encoded data removed]",
      "text/plain": [
       "<Figure size 640x480 with 1 Axes>"
      ]
     },
     "metadata": {},
     "output_type": "display_data"
    }
   ],
   "source": [
    "alumni['Diploma Type'].value_counts().plot.bar(color='g')\n",
    "plt.title('Diploma Type Graph')\n",
    "# lables \n",
    "plt.xlabel('Diploma Type')\n",
    "plt.ylabel('Value Count')\n",
    "\n"
   ]
  },
  {
   "cell_type": "markdown",
   "metadata": {},
   "source": [
    "b) Now create a box plot comparison between 'Savings' and 'Salary' columns"
   ]
  },
  {
   "cell_type": "code",
   "execution_count": 26,
   "metadata": {},
   "outputs": [
    {
     "data": {
      "text/plain": [
       "Text(0, 0.5, 'Salary')"
      ]
     },
     "execution_count": 26,
     "metadata": {},
     "output_type": "execute_result"
    },
    {
     "data": {
      "image/png": "[encoded data removed]",
      "text/plain": [
       "<Figure size 640x480 with 1 Axes>"
      ]
     },
     "metadata": {},
     "output_type": "display_data"
    }
   ],
   "source": [
    "#b) (1)\n",
    "alumni.plot(x=\"Salary\", y=\"Savings\", kind=\"box\",color='g' )\n",
    "# lables \n",
    "plt.title('Comparison between Savings and Salary', color='b')\n",
    "plt.ylabel('Salary')"
   ]
  },
  {
   "cell_type": "markdown",
   "metadata": {},
   "source": [
    "c) Generate a histogram with the 'Salary' column and use 12 bins."
   ]
  },
  {
   "cell_type": "code",
   "execution_count": 46,
   "metadata": {},
   "outputs": [
    {
     "data": {
      "text/plain": [
       "Text(0.5, 1.0, 'Salary Histogram')"
      ]
     },
     "execution_count": 46,
     "metadata": {},
     "output_type": "execute_result"
    },
    {
     "data": {
      "image/png": "[encoded data removed]",
      "text/plain": [
       "<Figure size 500x500 with 1 Axes>"
      ]
     },
     "metadata": {},
     "output_type": "display_data"
    }
   ],
   "source": [
    "#c) (1)\n",
    "#alumni.hist(column='Salary', bins =12,color='g')\n",
    "#plt.title('Salary Histogram')\n",
    "#plt.xlabel('Salary')\n",
    "#plt.ylabel('count')\n",
    "sns.displot(data=alumni, x=\"Salary\",color='g' )\n",
    "plt.title('Salary Histogram')"
   ]
  },
  {
   "cell_type": "markdown",
   "metadata": {},
   "source": [
    "d) Generate a scatter plot comparing 'Salary' and 'Savings' columns."
   ]
  },
  {
   "cell_type": "code",
   "execution_count": 38,
   "metadata": {
    "scrolled": true
   },
   "outputs": [
    {
     "data": {
      "text/plain": [
       "Text(0.5, 1.0, 'Scatter plot graph comparing Salary and Savings')"
      ]
     },
     "execution_count": 38,
     "metadata": {},
     "output_type": "execute_result"
    },
    {
     "data": {
      "image/png": "[encoded data removed]",
      "text/plain": [
       "<Figure size 500x500 with 1 Axes>"
      ]
     },
     "metadata": {},
     "output_type": "display_data"
    }
   ],
   "source": [
    "#d) (1)\n",
    "#alumni.plot(x=\"Salary\", y=\"Savings\", kind=\"scatter\",color='g' )\n",
    "\n",
    "sns.relplot(x=\"Salary\", y=\"Savings\", data=alumni, kind=\"scatter\",color='g')\n",
    "plt.title('Scatter plot graph comparing Salary and Savings', color='b')"
   ]
  },
  {
   "cell_type": "markdown",
   "metadata": {},
   "source": [
    "### Question 7 :  Contingency Table (2 Marks)\n",
    "\n",
    "Using both the 'Martial Status' and 'Defaulted' create a contingency table. Hint: crosstab"
   ]
  },
  {
   "cell_type": "code",
   "execution_count": 250,
   "metadata": {},
   "outputs": [
    {
     "name": "stdout",
     "output_type": "stream",
     "text": [
      "Defaulted       No  Yes\n",
      "Marital Status         \n",
      "Divorced         8   11\n",
      "Married         19   16\n",
      "Single           9   25\n"
     ]
    }
   ],
   "source": [
    "# Q7 (2)\n",
    "c_t = pd.crosstab(alumni['Marital Status'],alumni['Defaulted'],margins = False)\n",
    "print(c_t)"
   ]
  },
  {
   "cell_type": "code",
   "execution_count": null,
   "metadata": {},
   "outputs": [],
   "source": []
  }
 ],
 "metadata": {
  "kernelspec": {
   "display_name": "Python 3 (ipykernel)",
   "language": "python",
   "name": "python3"
  },
  "language_info": {
   "codemirror_mode": {
    "name": "ipython",
    "version": 3
   },
   "file_extension": ".py",
   "mimetype": "text/x-python",
   "name": "python",
   "nbconvert_exporter": "python",
   "pygments_lexer": "ipython3",
   "version": "3.9.13"
  }
 },
 "nbformat": 4,
 "nbformat_minor": 2
}
